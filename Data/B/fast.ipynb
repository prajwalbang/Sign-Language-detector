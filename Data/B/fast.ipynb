{
 "cells": [
  {
   "cell_type": "code",
   "execution_count": 1,
   "metadata": {},
   "outputs": [],
   "source": [
    "import fastf1 as ff1 \n",
    "from fastf1 import plotting\n",
    "from matplotlib import pyplot as plt\n",
    "from matplotlib import pyplot as plt\n",
    "from matplotlib.pyplot import figure\n",
    "from matplotlib.collections import LineCollection\n",
    "from matplotlib import _cm\n",
    "import numpy as np\n",
    "import pandas as pd"
   ]
  },
  {
   "cell_type": "markdown",
   "metadata": {},
   "source": [
    "Enabling the cache\n",
    "it can take a few seconds to load the data from the \n",
    "qualification session, we want to cache that data \n",
    "so that we can quickly access it later.\n"
   ]
  },
  {
   "cell_type": "code",
   "execution_count": 6,
   "metadata": {},
   "outputs": [],
   "source": [
    "ff1.Cache.enable_cache('./cache')"
   ]
  },
  {
   "cell_type": "markdown",
   "metadata": {},
   "source": [
    "Setup Plotting"
   ]
  },
  {
   "cell_type": "code",
   "execution_count": 8,
   "metadata": {},
   "outputs": [],
   "source": [
    "plotting.setup_mpl(color_scheme='fastf1', misc_mpl_mods=False)"
   ]
  },
  {
   "cell_type": "markdown",
   "metadata": {},
   "source": [
    "Step 2: Collecting the data"
   ]
  },
  {
   "cell_type": "markdown",
   "metadata": {},
   "source": [
    "The session we are interested in is, in this case, Q for qualification. If you’d like to get any other session, you can also choose FP1/FP2/FP3, or R. After specifying the session, we can load the laps.\n",
    "\n"
   ]
  },
  {
   "cell_type": "code",
   "execution_count": 12,
   "metadata": {},
   "outputs": [
    {
     "data": {
      "text/plain": [
       "Timestamp('2024-09-21 13:00:00')"
      ]
     },
     "execution_count": 12,
     "metadata": {},
     "output_type": "execute_result"
    }
   ],
   "source": [
    "#load the session data\n",
    "quali = ff1.get_session(2024, 'Singapore', 'Q')\n",
    "# Get the laps\n",
    "quali.name\n",
    "quali.date"
   ]
  },
  {
   "cell_type": "code",
   "execution_count": 13,
   "metadata": {},
   "outputs": [
    {
     "data": {
      "text/plain": [
       "RoundNumber                                                         18\n",
       "Country                                                      Singapore\n",
       "Location                                                    Marina Bay\n",
       "OfficialEventName    FORMULA 1 SINGAPORE AIRLINES SINGAPORE GRAND P...\n",
       "EventDate                                          2024-09-22 00:00:00\n",
       "EventName                                         Singapore Grand Prix\n",
       "EventFormat                                               conventional\n",
       "Session1                                                    Practice 1\n",
       "Session1Date                                 2024-09-20 17:30:00+08:00\n",
       "Session1DateUtc                                    2024-09-20 09:30:00\n",
       "Session2                                                    Practice 2\n",
       "Session2Date                                 2024-09-20 21:00:00+08:00\n",
       "Session2DateUtc                                    2024-09-20 13:00:00\n",
       "Session3                                                    Practice 3\n",
       "Session3Date                                 2024-09-21 17:30:00+08:00\n",
       "Session3DateUtc                                    2024-09-21 09:30:00\n",
       "Session4                                                    Qualifying\n",
       "Session4Date                                 2024-09-21 21:00:00+08:00\n",
       "Session4DateUtc                                    2024-09-21 13:00:00\n",
       "Session5                                                          Race\n",
       "Session5Date                                 2024-09-22 20:00:00+08:00\n",
       "Session5DateUtc                                    2024-09-22 12:00:00\n",
       "F1ApiSupport                                                      True\n",
       "Name: 18, dtype: object"
      ]
     },
     "execution_count": 13,
     "metadata": {},
     "output_type": "execute_result"
    }
   ],
   "source": [
    "quali.event"
   ]
  }
 ],
 "metadata": {
  "kernelspec": {
   "display_name": "Python 3",
   "language": "python",
   "name": "python3"
  },
  "language_info": {
   "codemirror_mode": {
    "name": "ipython",
    "version": 3
   },
   "file_extension": ".py",
   "mimetype": "text/x-python",
   "name": "python",
   "nbconvert_exporter": "python",
   "pygments_lexer": "ipython3",
   "version": "3.10.0"
  }
 },
 "nbformat": 4,
 "nbformat_minor": 2
}
